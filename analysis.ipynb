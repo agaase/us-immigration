{
 "cells": [
  {
   "cell_type": "code",
   "execution_count": 17,
   "metadata": {
    "collapsed": false
   },
   "outputs": [],
   "source": [
    "import pandas as pd\n",
    "import json\n",
    "from pandas.io.json import json_normalize\n",
    "import urllib.request as rq\n",
    "import json\n",
    "import os\n",
    "import matplotlib.pyplot as plt\n",
    "pd.set_option(\"display.max_columns\",100)\n",
    "pd.set_option('display.float_format', lambda x: '%.3f' % x)"
   ]
  },
  {
   "cell_type": "code",
   "execution_count": 2,
   "metadata": {
    "collapsed": true
   },
   "outputs": [],
   "source": [
    "def fetch_data(index,type):\n",
    "    response = rq.urlopen(os.environ[\"ES_URL\"]+ index+'/'+type+'/_search?size=1000000')\n",
    "    data = json.load(response)   \n",
    "    data = data[\"hits\"][\"hits\"]\n",
    "    df = json_normalize(data)\n",
    "    return df"
   ]
  },
  {
   "cell_type": "markdown",
   "metadata": {},
   "source": [
    "## US immigration data"
   ]
  },
  {
   "cell_type": "code",
   "execution_count": 3,
   "metadata": {
    "collapsed": false
   },
   "outputs": [],
   "source": [
    "df = fetch_data(\"immigration\",\"country_yr\")"
   ]
  },
  {
   "cell_type": "code",
   "execution_count": 4,
   "metadata": {
    "collapsed": false
   },
   "outputs": [
    {
     "name": "stdout",
     "output_type": "stream",
     "text": [
      "(1520, 10)\n",
      "Index(['_id', '_index', '_score', '_source.country', '_source.latitude',\n",
      "       '_source.longitude', '_source.region', '_source.value', '_source.yr',\n",
      "       '_type'],\n",
      "      dtype='object')\n"
     ]
    }
   ],
   "source": [
    "print(df.shape)\n",
    "print(df.columns)"
   ]
  },
  {
   "cell_type": "markdown",
   "metadata": {},
   "source": [
    "### Looking at individual rows"
   ]
  },
  {
   "cell_type": "code",
   "execution_count": 7,
   "metadata": {
    "collapsed": false
   },
   "outputs": [
    {
     "data": {
      "text/html": [
       "<div>\n",
       "<table border=\"1\" class=\"dataframe\">\n",
       "  <thead>\n",
       "    <tr style=\"text-align: right;\">\n",
       "      <th></th>\n",
       "      <th>_id</th>\n",
       "      <th>_index</th>\n",
       "      <th>_score</th>\n",
       "      <th>_source.country</th>\n",
       "      <th>_source.latitude</th>\n",
       "      <th>_source.longitude</th>\n",
       "      <th>_source.region</th>\n",
       "      <th>_source.value</th>\n",
       "      <th>_source.yr</th>\n",
       "      <th>_type</th>\n",
       "    </tr>\n",
       "  </thead>\n",
       "  <tbody>\n",
       "    <tr>\n",
       "      <th>5</th>\n",
       "      <td>AVr7U8BIu8C0brA7OwO3</td>\n",
       "      <td>immigration</td>\n",
       "      <td>1.0</td>\n",
       "      <td>hungary</td>\n",
       "      <td>47.162494</td>\n",
       "      <td>19.503304</td>\n",
       "      <td>europe</td>\n",
       "      <td>5598</td>\n",
       "      <td>1880</td>\n",
       "      <td>country_yr</td>\n",
       "    </tr>\n",
       "    <tr>\n",
       "      <th>6</th>\n",
       "      <td>AVr7U8BIu8C0brA7OwO8</td>\n",
       "      <td>immigration</td>\n",
       "      <td>1.0</td>\n",
       "      <td>hungary</td>\n",
       "      <td>47.162494</td>\n",
       "      <td>19.503304</td>\n",
       "      <td>europe</td>\n",
       "      <td>29499</td>\n",
       "      <td>1930</td>\n",
       "      <td>country_yr</td>\n",
       "    </tr>\n",
       "    <tr>\n",
       "      <th>7</th>\n",
       "      <td>AVr7U8BOu8C0brA7OwPD</td>\n",
       "      <td>immigration</td>\n",
       "      <td>1.0</td>\n",
       "      <td>hungary</td>\n",
       "      <td>47.162494</td>\n",
       "      <td>19.503304</td>\n",
       "      <td>europe</td>\n",
       "      <td>9295</td>\n",
       "      <td>2000</td>\n",
       "      <td>country_yr</td>\n",
       "    </tr>\n",
       "    <tr>\n",
       "      <th>8</th>\n",
       "      <td>AVr7U8BOu8C0brA7OwPI</td>\n",
       "      <td>immigration</td>\n",
       "      <td>1.0</td>\n",
       "      <td>belgium</td>\n",
       "      <td>50.503887</td>\n",
       "      <td>4.469936</td>\n",
       "      <td>europe</td>\n",
       "      <td>3996</td>\n",
       "      <td>1850</td>\n",
       "      <td>country_yr</td>\n",
       "    </tr>\n",
       "    <tr>\n",
       "      <th>9</th>\n",
       "      <td>AVr7U8BOu8C0brA7OwPN</td>\n",
       "      <td>immigration</td>\n",
       "      <td>1.0</td>\n",
       "      <td>belgium</td>\n",
       "      <td>50.503887</td>\n",
       "      <td>4.469936</td>\n",
       "      <td>europe</td>\n",
       "      <td>19642</td>\n",
       "      <td>1900</td>\n",
       "      <td>country_yr</td>\n",
       "    </tr>\n",
       "  </tbody>\n",
       "</table>\n",
       "</div>"
      ],
      "text/plain": [
       "                    _id       _index  _score _source.country  \\\n",
       "5  AVr7U8BIu8C0brA7OwO3  immigration     1.0         hungary   \n",
       "6  AVr7U8BIu8C0brA7OwO8  immigration     1.0         hungary   \n",
       "7  AVr7U8BOu8C0brA7OwPD  immigration     1.0         hungary   \n",
       "8  AVr7U8BOu8C0brA7OwPI  immigration     1.0         belgium   \n",
       "9  AVr7U8BOu8C0brA7OwPN  immigration     1.0         belgium   \n",
       "\n",
       "   _source.latitude  _source.longitude _source.region  _source.value  \\\n",
       "5         47.162494          19.503304         europe           5598   \n",
       "6         47.162494          19.503304         europe          29499   \n",
       "7         47.162494          19.503304         europe           9295   \n",
       "8         50.503887           4.469936         europe           3996   \n",
       "9         50.503887           4.469936         europe          19642   \n",
       "\n",
       "   _source.yr       _type  \n",
       "5        1880  country_yr  \n",
       "6        1930  country_yr  \n",
       "7        2000  country_yr  \n",
       "8        1850  country_yr  \n",
       "9        1900  country_yr  "
      ]
     },
     "execution_count": 7,
     "metadata": {},
     "output_type": "execute_result"
    }
   ],
   "source": [
    "df[5:10]"
   ]
  },
  {
   "cell_type": "markdown",
   "metadata": {},
   "source": [
    "### Finding variation in total immigration by year"
   ]
  },
  {
   "cell_type": "code",
   "execution_count": 14,
   "metadata": {
    "collapsed": false
   },
   "outputs": [],
   "source": [
    "imm_by_yr = df.groupby([\"_source.yr\"]).sum()[\"_source.value\"]\n",
    "imm_by_yr = imm_by_yr/1000"
   ]
  },
  {
   "cell_type": "code",
   "execution_count": 15,
   "metadata": {
    "collapsed": false
   },
   "outputs": [
    {
     "data": {
      "text/plain": [
       "count       20.000000\n",
       "mean      3940.516800\n",
       "std       2890.938527\n",
       "min        109.329000\n",
       "50%       3415.660500\n",
       "60%       4266.558200\n",
       "80%       6020.556800\n",
       "90%       7621.898800\n",
       "99%      10023.274300\n",
       "max      10087.500000\n",
       "Name: _source.value, dtype: float64"
      ]
     },
     "execution_count": 15,
     "metadata": {},
     "output_type": "execute_result"
    }
   ],
   "source": [
    "imm_by_yr.describe(percentiles=[0.6,0.8,0.9,0.99])"
   ]
  },
  {
   "cell_type": "code",
   "execution_count": 18,
   "metadata": {
    "collapsed": false
   },
   "outputs": [
    {
     "data": {
      "text/plain": [
       "count      1520.000\n",
       "mean      51848.905\n",
       "std      163401.866\n",
       "min           0.000\n",
       "25%           1.000\n",
       "50%        3065.000\n",
       "75%       29248.000\n",
       "max     2757418.000\n",
       "Name: _source.value, dtype: float64"
      ]
     },
     "execution_count": 18,
     "metadata": {},
     "output_type": "execute_result"
    }
   ],
   "source": [
    "df[\"_source.value\"].describe()"
   ]
  },
  {
   "cell_type": "markdown",
   "metadata": {},
   "source": [
    "## For each region what is the variation of total immigrants"
   ]
  },
  {
   "cell_type": "code",
   "execution_count": 27,
   "metadata": {
    "collapsed": false
   },
   "outputs": [
    {
     "data": {
      "text/plain": [
       "_source.region\n",
       "africa             1578.607\n",
       "america           13154.607\n",
       "asia              13187.536\n",
       "caribbean          4973.977\n",
       "central america    1599.485\n",
       "europe            33125.328\n",
       "oceania              32.728\n",
       "russia             3971.006\n",
       "south america      2375.120\n",
       "Name: _source.value, dtype: float64"
      ]
     },
     "execution_count": 27,
     "metadata": {},
     "output_type": "execute_result"
    }
   ],
   "source": [
    "df[df[\"_source.value\"]>29248].groupby([\"_source.region\"]).sum()[\"_source.value\"]/1000"
   ]
  }
 ],
 "metadata": {
  "kernelspec": {
   "display_name": "Python 3",
   "language": "python",
   "name": "python3"
  },
  "language_info": {
   "codemirror_mode": {
    "name": "ipython",
    "version": 3
   },
   "file_extension": ".py",
   "mimetype": "text/x-python",
   "name": "python",
   "nbconvert_exporter": "python",
   "pygments_lexer": "ipython3",
   "version": "3.6.0"
  }
 },
 "nbformat": 4,
 "nbformat_minor": 2
}
